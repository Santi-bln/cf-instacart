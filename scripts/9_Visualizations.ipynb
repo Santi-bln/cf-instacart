{
 "cells": [
  {
   "cell_type": "markdown",
   "id": "eee019a1",
   "metadata": {},
   "source": [
    "# 01. Importing libraries"
   ]
  },
  {
   "cell_type": "code",
   "execution_count": 1,
   "id": "c7c7bf02",
   "metadata": {},
   "outputs": [],
   "source": [
    "# Import libraries\n",
    "import pandas as pd\n",
    "import numpy as np\n",
    "import os\n",
    "import matplotlib.pyplot as plt\n",
    "import seaborn as sns\n",
    "import scipy"
   ]
  },
  {
   "cell_type": "markdown",
   "id": "c93ecccf",
   "metadata": {},
   "source": [
    "# 02. Importing and checking data"
   ]
  },
  {
   "cell_type": "code",
   "execution_count": 2,
   "id": "16c6fd08",
   "metadata": {},
   "outputs": [],
   "source": [
    "path = r'C:\\Users\\santi\\HiDrive\\users\\santina\\02_Data Analytics\\04_Python-Fundamentals\\02-2022 Instacart Basket Analysis'"
   ]
  },
  {
   "cell_type": "code",
   "execution_count": 3,
   "id": "3d574066",
   "metadata": {},
   "outputs": [
    {
     "data": {
      "text/plain": [
       "'C:\\\\Users\\\\santi\\\\HiDrive\\\\users\\\\santina\\\\02_Data Analytics\\\\04_Python-Fundamentals\\\\02-2022 Instacart Basket Analysis'"
      ]
     },
     "execution_count": 3,
     "metadata": {},
     "output_type": "execute_result"
    }
   ],
   "source": [
    "path"
   ]
  },
  {
   "cell_type": "code",
   "execution_count": 5,
   "id": "0c390404",
   "metadata": {},
   "outputs": [],
   "source": [
    "# import the data set orders\n",
    "df = pd.read_pickle(os.path.join(path, '02_Data', 'Prepared Data', 'ords_prods_cust.pkl' ))"
   ]
  },
  {
   "cell_type": "code",
   "execution_count": 6,
   "id": "cb9de74f",
   "metadata": {},
   "outputs": [
    {
     "data": {
      "text/html": [
       "<div>\n",
       "<style scoped>\n",
       "    .dataframe tbody tr th:only-of-type {\n",
       "        vertical-align: middle;\n",
       "    }\n",
       "\n",
       "    .dataframe tbody tr th {\n",
       "        vertical-align: top;\n",
       "    }\n",
       "\n",
       "    .dataframe thead th {\n",
       "        text-align: right;\n",
       "    }\n",
       "</style>\n",
       "<table border=\"1\" class=\"dataframe\">\n",
       "  <thead>\n",
       "    <tr style=\"text-align: right;\">\n",
       "      <th></th>\n",
       "      <th>Unnamed: 0</th>\n",
       "      <th>order_id</th>\n",
       "      <th>user_id</th>\n",
       "      <th>eval_set</th>\n",
       "      <th>order_number</th>\n",
       "      <th>order_dow</th>\n",
       "      <th>order_hour_of_day</th>\n",
       "      <th>days_since_prior_order</th>\n",
       "      <th>first_order</th>\n",
       "      <th>product_id</th>\n",
       "      <th>...</th>\n",
       "      <th>frequency</th>\n",
       "      <th>frequency_flag</th>\n",
       "      <th>surname</th>\n",
       "      <th>gender</th>\n",
       "      <th>state</th>\n",
       "      <th>age</th>\n",
       "      <th>date_joined</th>\n",
       "      <th>n_dependants</th>\n",
       "      <th>fam_status</th>\n",
       "      <th>income</th>\n",
       "    </tr>\n",
       "  </thead>\n",
       "  <tbody>\n",
       "    <tr>\n",
       "      <th>0</th>\n",
       "      <td>0</td>\n",
       "      <td>2539329</td>\n",
       "      <td>1</td>\n",
       "      <td>prior</td>\n",
       "      <td>1</td>\n",
       "      <td>2</td>\n",
       "      <td>8</td>\n",
       "      <td>NaN</td>\n",
       "      <td>True</td>\n",
       "      <td>196</td>\n",
       "      <td>...</td>\n",
       "      <td>20.5</td>\n",
       "      <td>Non-frequent customer</td>\n",
       "      <td>Nguyen</td>\n",
       "      <td>Female</td>\n",
       "      <td>Alabama</td>\n",
       "      <td>31</td>\n",
       "      <td>2/17/2019</td>\n",
       "      <td>3</td>\n",
       "      <td>married</td>\n",
       "      <td>40423</td>\n",
       "    </tr>\n",
       "    <tr>\n",
       "      <th>1</th>\n",
       "      <td>1</td>\n",
       "      <td>2539329</td>\n",
       "      <td>1</td>\n",
       "      <td>prior</td>\n",
       "      <td>1</td>\n",
       "      <td>2</td>\n",
       "      <td>8</td>\n",
       "      <td>NaN</td>\n",
       "      <td>True</td>\n",
       "      <td>14084</td>\n",
       "      <td>...</td>\n",
       "      <td>20.5</td>\n",
       "      <td>Non-frequent customer</td>\n",
       "      <td>Nguyen</td>\n",
       "      <td>Female</td>\n",
       "      <td>Alabama</td>\n",
       "      <td>31</td>\n",
       "      <td>2/17/2019</td>\n",
       "      <td>3</td>\n",
       "      <td>married</td>\n",
       "      <td>40423</td>\n",
       "    </tr>\n",
       "    <tr>\n",
       "      <th>2</th>\n",
       "      <td>2</td>\n",
       "      <td>2539329</td>\n",
       "      <td>1</td>\n",
       "      <td>prior</td>\n",
       "      <td>1</td>\n",
       "      <td>2</td>\n",
       "      <td>8</td>\n",
       "      <td>NaN</td>\n",
       "      <td>True</td>\n",
       "      <td>12427</td>\n",
       "      <td>...</td>\n",
       "      <td>20.5</td>\n",
       "      <td>Non-frequent customer</td>\n",
       "      <td>Nguyen</td>\n",
       "      <td>Female</td>\n",
       "      <td>Alabama</td>\n",
       "      <td>31</td>\n",
       "      <td>2/17/2019</td>\n",
       "      <td>3</td>\n",
       "      <td>married</td>\n",
       "      <td>40423</td>\n",
       "    </tr>\n",
       "    <tr>\n",
       "      <th>3</th>\n",
       "      <td>3</td>\n",
       "      <td>2539329</td>\n",
       "      <td>1</td>\n",
       "      <td>prior</td>\n",
       "      <td>1</td>\n",
       "      <td>2</td>\n",
       "      <td>8</td>\n",
       "      <td>NaN</td>\n",
       "      <td>True</td>\n",
       "      <td>26088</td>\n",
       "      <td>...</td>\n",
       "      <td>20.5</td>\n",
       "      <td>Non-frequent customer</td>\n",
       "      <td>Nguyen</td>\n",
       "      <td>Female</td>\n",
       "      <td>Alabama</td>\n",
       "      <td>31</td>\n",
       "      <td>2/17/2019</td>\n",
       "      <td>3</td>\n",
       "      <td>married</td>\n",
       "      <td>40423</td>\n",
       "    </tr>\n",
       "    <tr>\n",
       "      <th>4</th>\n",
       "      <td>4</td>\n",
       "      <td>2539329</td>\n",
       "      <td>1</td>\n",
       "      <td>prior</td>\n",
       "      <td>1</td>\n",
       "      <td>2</td>\n",
       "      <td>8</td>\n",
       "      <td>NaN</td>\n",
       "      <td>True</td>\n",
       "      <td>26405</td>\n",
       "      <td>...</td>\n",
       "      <td>20.5</td>\n",
       "      <td>Non-frequent customer</td>\n",
       "      <td>Nguyen</td>\n",
       "      <td>Female</td>\n",
       "      <td>Alabama</td>\n",
       "      <td>31</td>\n",
       "      <td>2/17/2019</td>\n",
       "      <td>3</td>\n",
       "      <td>married</td>\n",
       "      <td>40423</td>\n",
       "    </tr>\n",
       "  </tbody>\n",
       "</table>\n",
       "<p>5 rows × 35 columns</p>\n",
       "</div>"
      ],
      "text/plain": [
       "   Unnamed: 0  order_id  user_id eval_set  order_number  order_dow  \\\n",
       "0           0   2539329        1    prior             1          2   \n",
       "1           1   2539329        1    prior             1          2   \n",
       "2           2   2539329        1    prior             1          2   \n",
       "3           3   2539329        1    prior             1          2   \n",
       "4           4   2539329        1    prior             1          2   \n",
       "\n",
       "   order_hour_of_day  days_since_prior_order  first_order  product_id  ...  \\\n",
       "0                  8                     NaN         True         196  ...   \n",
       "1                  8                     NaN         True       14084  ...   \n",
       "2                  8                     NaN         True       12427  ...   \n",
       "3                  8                     NaN         True       26088  ...   \n",
       "4                  8                     NaN         True       26405  ...   \n",
       "\n",
       "   frequency         frequency_flag surname  gender    state  age date_joined  \\\n",
       "0       20.5  Non-frequent customer  Nguyen  Female  Alabama   31   2/17/2019   \n",
       "1       20.5  Non-frequent customer  Nguyen  Female  Alabama   31   2/17/2019   \n",
       "2       20.5  Non-frequent customer  Nguyen  Female  Alabama   31   2/17/2019   \n",
       "3       20.5  Non-frequent customer  Nguyen  Female  Alabama   31   2/17/2019   \n",
       "4       20.5  Non-frequent customer  Nguyen  Female  Alabama   31   2/17/2019   \n",
       "\n",
       "  n_dependants fam_status income  \n",
       "0            3    married  40423  \n",
       "1            3    married  40423  \n",
       "2            3    married  40423  \n",
       "3            3    married  40423  \n",
       "4            3    married  40423  \n",
       "\n",
       "[5 rows x 35 columns]"
      ]
     },
     "execution_count": 6,
     "metadata": {},
     "output_type": "execute_result"
    }
   ],
   "source": [
    "df.head()"
   ]
  },
  {
   "cell_type": "code",
   "execution_count": 7,
   "id": "a28ef336",
   "metadata": {},
   "outputs": [
    {
     "data": {
      "text/plain": [
       "(10000, 35)"
      ]
     },
     "execution_count": 7,
     "metadata": {},
     "output_type": "execute_result"
    }
   ],
   "source": [
    "df.shape"
   ]
  },
  {
   "cell_type": "code",
   "execution_count": 8,
   "id": "c8b6ea18",
   "metadata": {},
   "outputs": [
    {
     "data": {
      "text/html": [
       "<div>\n",
       "<style scoped>\n",
       "    .dataframe tbody tr th:only-of-type {\n",
       "        vertical-align: middle;\n",
       "    }\n",
       "\n",
       "    .dataframe tbody tr th {\n",
       "        vertical-align: top;\n",
       "    }\n",
       "\n",
       "    .dataframe thead th {\n",
       "        text-align: right;\n",
       "    }\n",
       "</style>\n",
       "<table border=\"1\" class=\"dataframe\">\n",
       "  <thead>\n",
       "    <tr style=\"text-align: right;\">\n",
       "      <th></th>\n",
       "      <th>Unnamed: 0</th>\n",
       "      <th>order_id</th>\n",
       "      <th>user_id</th>\n",
       "      <th>order_number</th>\n",
       "      <th>order_dow</th>\n",
       "      <th>order_hour_of_day</th>\n",
       "      <th>days_since_prior_order</th>\n",
       "      <th>product_id</th>\n",
       "      <th>add_to_cart_order</th>\n",
       "      <th>reordered</th>\n",
       "      <th>aisle_id</th>\n",
       "      <th>department_id</th>\n",
       "      <th>prices</th>\n",
       "      <th>max_order</th>\n",
       "      <th>spending</th>\n",
       "      <th>frequency</th>\n",
       "      <th>age</th>\n",
       "      <th>n_dependants</th>\n",
       "      <th>income</th>\n",
       "    </tr>\n",
       "  </thead>\n",
       "  <tbody>\n",
       "    <tr>\n",
       "      <th>count</th>\n",
       "      <td>10000.00000</td>\n",
       "      <td>1.000000e+04</td>\n",
       "      <td>10000.000000</td>\n",
       "      <td>10000.000000</td>\n",
       "      <td>10000.00000</td>\n",
       "      <td>10000.000000</td>\n",
       "      <td>9256.000000</td>\n",
       "      <td>10000.00000</td>\n",
       "      <td>10000.000000</td>\n",
       "      <td>10000.000000</td>\n",
       "      <td>9990.000000</td>\n",
       "      <td>9990.000000</td>\n",
       "      <td>9990.000000</td>\n",
       "      <td>10000.000000</td>\n",
       "      <td>10000.000000</td>\n",
       "      <td>10000.000000</td>\n",
       "      <td>10000.00000</td>\n",
       "      <td>10000.000000</td>\n",
       "      <td>10000.000000</td>\n",
       "    </tr>\n",
       "    <tr>\n",
       "      <th>mean</th>\n",
       "      <td>4999.50000</td>\n",
       "      <td>1.699469e+06</td>\n",
       "      <td>40.575000</td>\n",
       "      <td>14.587000</td>\n",
       "      <td>2.81690</td>\n",
       "      <td>12.780800</td>\n",
       "      <td>12.513181</td>\n",
       "      <td>25239.56820</td>\n",
       "      <td>7.515400</td>\n",
       "      <td>0.530200</td>\n",
       "      <td>71.086687</td>\n",
       "      <td>9.913413</td>\n",
       "      <td>10.797177</td>\n",
       "      <td>27.912300</td>\n",
       "      <td>10.795626</td>\n",
       "      <td>12.270250</td>\n",
       "      <td>55.46040</td>\n",
       "      <td>1.317900</td>\n",
       "      <td>109431.043900</td>\n",
       "    </tr>\n",
       "    <tr>\n",
       "      <th>std</th>\n",
       "      <td>2886.89568</td>\n",
       "      <td>9.675789e+05</td>\n",
       "      <td>20.932802</td>\n",
       "      <td>17.131415</td>\n",
       "      <td>2.00394</td>\n",
       "      <td>3.726062</td>\n",
       "      <td>9.143684</td>\n",
       "      <td>14314.93346</td>\n",
       "      <td>6.261812</td>\n",
       "      <td>0.499112</td>\n",
       "      <td>38.276503</td>\n",
       "      <td>6.137038</td>\n",
       "      <td>210.742862</td>\n",
       "      <td>24.974451</td>\n",
       "      <td>17.046250</td>\n",
       "      <td>8.118062</td>\n",
       "      <td>17.12901</td>\n",
       "      <td>1.087363</td>\n",
       "      <td>38519.208733</td>\n",
       "    </tr>\n",
       "    <tr>\n",
       "      <th>min</th>\n",
       "      <td>0.00000</td>\n",
       "      <td>4.595000e+03</td>\n",
       "      <td>1.000000</td>\n",
       "      <td>1.000000</td>\n",
       "      <td>0.00000</td>\n",
       "      <td>0.000000</td>\n",
       "      <td>0.000000</td>\n",
       "      <td>23.00000</td>\n",
       "      <td>1.000000</td>\n",
       "      <td>0.000000</td>\n",
       "      <td>1.000000</td>\n",
       "      <td>1.000000</td>\n",
       "      <td>1.000000</td>\n",
       "      <td>3.000000</td>\n",
       "      <td>3.980556</td>\n",
       "      <td>4.000000</td>\n",
       "      <td>19.00000</td>\n",
       "      <td>0.000000</td>\n",
       "      <td>32209.000000</td>\n",
       "    </tr>\n",
       "    <tr>\n",
       "      <th>25%</th>\n",
       "      <td>2499.75000</td>\n",
       "      <td>8.647200e+05</td>\n",
       "      <td>27.000000</td>\n",
       "      <td>4.000000</td>\n",
       "      <td>1.00000</td>\n",
       "      <td>10.000000</td>\n",
       "      <td>6.000000</td>\n",
       "      <td>13176.00000</td>\n",
       "      <td>3.000000</td>\n",
       "      <td>0.000000</td>\n",
       "      <td>31.000000</td>\n",
       "      <td>4.000000</td>\n",
       "      <td>4.300000</td>\n",
       "      <td>10.000000</td>\n",
       "      <td>7.444898</td>\n",
       "      <td>6.000000</td>\n",
       "      <td>41.00000</td>\n",
       "      <td>0.000000</td>\n",
       "      <td>84314.000000</td>\n",
       "    </tr>\n",
       "    <tr>\n",
       "      <th>50%</th>\n",
       "      <td>4999.50000</td>\n",
       "      <td>1.681401e+06</td>\n",
       "      <td>39.000000</td>\n",
       "      <td>8.000000</td>\n",
       "      <td>3.00000</td>\n",
       "      <td>12.000000</td>\n",
       "      <td>9.000000</td>\n",
       "      <td>24852.00000</td>\n",
       "      <td>6.000000</td>\n",
       "      <td>1.000000</td>\n",
       "      <td>83.000000</td>\n",
       "      <td>8.000000</td>\n",
       "      <td>7.500000</td>\n",
       "      <td>19.000000</td>\n",
       "      <td>7.906522</td>\n",
       "      <td>9.000000</td>\n",
       "      <td>57.00000</td>\n",
       "      <td>1.000000</td>\n",
       "      <td>110170.000000</td>\n",
       "    </tr>\n",
       "    <tr>\n",
       "      <th>75%</th>\n",
       "      <td>7499.25000</td>\n",
       "      <td>2.562704e+06</td>\n",
       "      <td>58.000000</td>\n",
       "      <td>17.000000</td>\n",
       "      <td>5.00000</td>\n",
       "      <td>15.000000</td>\n",
       "      <td>18.000000</td>\n",
       "      <td>37712.00000</td>\n",
       "      <td>10.000000</td>\n",
       "      <td>1.000000</td>\n",
       "      <td>107.000000</td>\n",
       "      <td>16.000000</td>\n",
       "      <td>11.100000</td>\n",
       "      <td>39.000000</td>\n",
       "      <td>8.355249</td>\n",
       "      <td>14.000000</td>\n",
       "      <td>69.00000</td>\n",
       "      <td>2.000000</td>\n",
       "      <td>147958.000000</td>\n",
       "    </tr>\n",
       "    <tr>\n",
       "      <th>max</th>\n",
       "      <td>9999.00000</td>\n",
       "      <td>3.408319e+06</td>\n",
       "      <td>77.000000</td>\n",
       "      <td>81.000000</td>\n",
       "      <td>6.00000</td>\n",
       "      <td>23.000000</td>\n",
       "      <td>30.000000</td>\n",
       "      <td>49683.00000</td>\n",
       "      <td>46.000000</td>\n",
       "      <td>1.000000</td>\n",
       "      <td>134.000000</td>\n",
       "      <td>21.000000</td>\n",
       "      <td>14900.000000</td>\n",
       "      <td>81.000000</td>\n",
       "      <td>108.648299</td>\n",
       "      <td>30.000000</td>\n",
       "      <td>81.00000</td>\n",
       "      <td>3.000000</td>\n",
       "      <td>167593.000000</td>\n",
       "    </tr>\n",
       "  </tbody>\n",
       "</table>\n",
       "</div>"
      ],
      "text/plain": [
       "        Unnamed: 0      order_id       user_id  order_number    order_dow  \\\n",
       "count  10000.00000  1.000000e+04  10000.000000  10000.000000  10000.00000   \n",
       "mean    4999.50000  1.699469e+06     40.575000     14.587000      2.81690   \n",
       "std     2886.89568  9.675789e+05     20.932802     17.131415      2.00394   \n",
       "min        0.00000  4.595000e+03      1.000000      1.000000      0.00000   \n",
       "25%     2499.75000  8.647200e+05     27.000000      4.000000      1.00000   \n",
       "50%     4999.50000  1.681401e+06     39.000000      8.000000      3.00000   \n",
       "75%     7499.25000  2.562704e+06     58.000000     17.000000      5.00000   \n",
       "max     9999.00000  3.408319e+06     77.000000     81.000000      6.00000   \n",
       "\n",
       "       order_hour_of_day  days_since_prior_order   product_id  \\\n",
       "count       10000.000000             9256.000000  10000.00000   \n",
       "mean           12.780800               12.513181  25239.56820   \n",
       "std             3.726062                9.143684  14314.93346   \n",
       "min             0.000000                0.000000     23.00000   \n",
       "25%            10.000000                6.000000  13176.00000   \n",
       "50%            12.000000                9.000000  24852.00000   \n",
       "75%            15.000000               18.000000  37712.00000   \n",
       "max            23.000000               30.000000  49683.00000   \n",
       "\n",
       "       add_to_cart_order     reordered     aisle_id  department_id  \\\n",
       "count       10000.000000  10000.000000  9990.000000    9990.000000   \n",
       "mean            7.515400      0.530200    71.086687       9.913413   \n",
       "std             6.261812      0.499112    38.276503       6.137038   \n",
       "min             1.000000      0.000000     1.000000       1.000000   \n",
       "25%             3.000000      0.000000    31.000000       4.000000   \n",
       "50%             6.000000      1.000000    83.000000       8.000000   \n",
       "75%            10.000000      1.000000   107.000000      16.000000   \n",
       "max            46.000000      1.000000   134.000000      21.000000   \n",
       "\n",
       "             prices     max_order      spending     frequency          age  \\\n",
       "count   9990.000000  10000.000000  10000.000000  10000.000000  10000.00000   \n",
       "mean      10.797177     27.912300     10.795626     12.270250     55.46040   \n",
       "std      210.742862     24.974451     17.046250      8.118062     17.12901   \n",
       "min        1.000000      3.000000      3.980556      4.000000     19.00000   \n",
       "25%        4.300000     10.000000      7.444898      6.000000     41.00000   \n",
       "50%        7.500000     19.000000      7.906522      9.000000     57.00000   \n",
       "75%       11.100000     39.000000      8.355249     14.000000     69.00000   \n",
       "max    14900.000000     81.000000    108.648299     30.000000     81.00000   \n",
       "\n",
       "       n_dependants         income  \n",
       "count  10000.000000   10000.000000  \n",
       "mean       1.317900  109431.043900  \n",
       "std        1.087363   38519.208733  \n",
       "min        0.000000   32209.000000  \n",
       "25%        0.000000   84314.000000  \n",
       "50%        1.000000  110170.000000  \n",
       "75%        2.000000  147958.000000  \n",
       "max        3.000000  167593.000000  "
      ]
     },
     "execution_count": 8,
     "metadata": {},
     "output_type": "execute_result"
    }
   ],
   "source": [
    "df.describe()"
   ]
  },
  {
   "cell_type": "markdown",
   "id": "d7460bbd",
   "metadata": {},
   "source": [
    "## Bar Chart"
   ]
  },
  {
   "cell_type": "code",
   "execution_count": 20,
   "id": "f86734cf",
   "metadata": {},
   "outputs": [
    {
     "data": {
      "image/png": "[encoded data removed]",
      "text/plain": [
       "<Figure size 432x288 with 1 Axes>"
      ]
     },
     "metadata": {
      "needs_background": "light"
     },
     "output_type": "display_data"
    }
   ],
   "source": [
    "#create bar chart tp figure out the busiest day\n",
    "bar = df['order_dow'].value_counts().plot.bar()"
   ]
  },
  {
   "cell_type": "markdown",
   "id": "f9f385ca",
   "metadata": {},
   "source": [
    "## Histogram"
   ]
  },
  {
   "cell_type": "code",
   "execution_count": 12,
   "id": "499f9cb1",
   "metadata": {},
   "outputs": [
    {
     "data": {
      "text/plain": [
       "<AxesSubplot:ylabel='Frequency'>"
      ]
     },
     "execution_count": 12,
     "metadata": {},
     "output_type": "execute_result"
    },
    {
     "data": {
      "image/png": "[encoded data removed]",
      "text/plain": [
       "<Figure size 432x288 with 1 Axes>"
      ]
     },
     "metadata": {
      "needs_background": "light"
     },
     "output_type": "display_data"
    }
   ],
   "source": [
    "# create histogram\n",
    "df['prices'].plot.hist(bins = 70)"
   ]
  },
  {
   "cell_type": "code",
   "execution_count": 14,
   "id": "91310905",
   "metadata": {},
   "outputs": [
    {
     "data": {
      "text/html": [
       "<div>\n",
       "<style scoped>\n",
       "    .dataframe tbody tr th:only-of-type {\n",
       "        vertical-align: middle;\n",
       "    }\n",
       "\n",
       "    .dataframe tbody tr th {\n",
       "        vertical-align: top;\n",
       "    }\n",
       "\n",
       "    .dataframe thead th {\n",
       "        text-align: right;\n",
       "    }\n",
       "</style>\n",
       "<table border=\"1\" class=\"dataframe\">\n",
       "  <thead>\n",
       "    <tr style=\"text-align: right;\">\n",
       "      <th></th>\n",
       "      <th>Unnamed: 0</th>\n",
       "      <th>order_id</th>\n",
       "      <th>user_id</th>\n",
       "      <th>eval_set</th>\n",
       "      <th>order_number</th>\n",
       "      <th>order_dow</th>\n",
       "      <th>order_hour_of_day</th>\n",
       "      <th>days_since_prior_order</th>\n",
       "      <th>first_order</th>\n",
       "      <th>product_id</th>\n",
       "      <th>...</th>\n",
       "      <th>frequency</th>\n",
       "      <th>frequency_flag</th>\n",
       "      <th>surname</th>\n",
       "      <th>gender</th>\n",
       "      <th>state</th>\n",
       "      <th>age</th>\n",
       "      <th>date_joined</th>\n",
       "      <th>n_dependants</th>\n",
       "      <th>fam_status</th>\n",
       "      <th>income</th>\n",
       "    </tr>\n",
       "  </thead>\n",
       "  <tbody>\n",
       "    <tr>\n",
       "      <th>1576</th>\n",
       "      <td>1576</td>\n",
       "      <td>912404</td>\n",
       "      <td>17</td>\n",
       "      <td>prior</td>\n",
       "      <td>12</td>\n",
       "      <td>2</td>\n",
       "      <td>14</td>\n",
       "      <td>5.0</td>\n",
       "      <td>False</td>\n",
       "      <td>21553</td>\n",
       "      <td>...</td>\n",
       "      <td>5.0</td>\n",
       "      <td>Frequent customer</td>\n",
       "      <td>Chang</td>\n",
       "      <td>Female</td>\n",
       "      <td>Kansas</td>\n",
       "      <td>39</td>\n",
       "      <td>9/16/2018</td>\n",
       "      <td>3</td>\n",
       "      <td>married</td>\n",
       "      <td>150659</td>\n",
       "    </tr>\n",
       "    <tr>\n",
       "      <th>1638</th>\n",
       "      <td>1638</td>\n",
       "      <td>603376</td>\n",
       "      <td>17</td>\n",
       "      <td>prior</td>\n",
       "      <td>22</td>\n",
       "      <td>6</td>\n",
       "      <td>16</td>\n",
       "      <td>4.0</td>\n",
       "      <td>False</td>\n",
       "      <td>21553</td>\n",
       "      <td>...</td>\n",
       "      <td>5.0</td>\n",
       "      <td>Frequent customer</td>\n",
       "      <td>Chang</td>\n",
       "      <td>Female</td>\n",
       "      <td>Kansas</td>\n",
       "      <td>39</td>\n",
       "      <td>9/16/2018</td>\n",
       "      <td>3</td>\n",
       "      <td>married</td>\n",
       "      <td>150659</td>\n",
       "    </tr>\n",
       "  </tbody>\n",
       "</table>\n",
       "<p>2 rows × 35 columns</p>\n",
       "</div>"
      ],
      "text/plain": [
       "      Unnamed: 0  order_id  user_id eval_set  order_number  order_dow  \\\n",
       "1576        1576    912404       17    prior            12          2   \n",
       "1638        1638    603376       17    prior            22          6   \n",
       "\n",
       "      order_hour_of_day  days_since_prior_order  first_order  product_id  ...  \\\n",
       "1576                 14                     5.0        False       21553  ...   \n",
       "1638                 16                     4.0        False       21553  ...   \n",
       "\n",
       "      frequency     frequency_flag surname  gender   state  age date_joined  \\\n",
       "1576        5.0  Frequent customer   Chang  Female  Kansas   39   9/16/2018   \n",
       "1638        5.0  Frequent customer   Chang  Female  Kansas   39   9/16/2018   \n",
       "\n",
       "     n_dependants fam_status  income  \n",
       "1576            3    married  150659  \n",
       "1638            3    married  150659  \n",
       "\n",
       "[2 rows x 35 columns]"
      ]
     },
     "execution_count": 14,
     "metadata": {},
     "output_type": "execute_result"
    }
   ],
   "source": [
    "df.loc[df['prices'] > 100]"
   ]
  },
  {
   "cell_type": "code",
   "execution_count": 15,
   "id": "3fbe73af",
   "metadata": {},
   "outputs": [],
   "source": [
    "df.loc[df['prices'] >100, 'prices'] = np.nan"
   ]
  },
  {
   "cell_type": "code",
   "execution_count": 16,
   "id": "14c99973",
   "metadata": {},
   "outputs": [
    {
     "data": {
      "text/plain": [
       "25.0"
      ]
     },
     "execution_count": 16,
     "metadata": {},
     "output_type": "execute_result"
    }
   ],
   "source": [
    "df['prices'].max()"
   ]
  },
  {
   "cell_type": "code",
   "execution_count": 17,
   "id": "677f2d93",
   "metadata": {},
   "outputs": [
    {
     "data": {
      "image/png": "[encoded data removed]",
      "text/plain": [
       "<Figure size 432x288 with 1 Axes>"
      ]
     },
     "metadata": {
      "needs_background": "light"
     },
     "output_type": "display_data"
    }
   ],
   "source": [
    "hist = df['prices'].plot.hist(bins = 70)"
   ]
  },
  {
   "cell_type": "markdown",
   "id": "1daa5b45",
   "metadata": {},
   "source": [
    "## Line chart"
   ]
  },
  {
   "cell_type": "code",
   "execution_count": 21,
   "id": "a63df697",
   "metadata": {},
   "outputs": [],
   "source": [
    "#setting random seed\n",
    "np.random.seed(4)"
   ]
  },
  {
   "cell_type": "code",
   "execution_count": 23,
   "id": "17e88f00",
   "metadata": {},
   "outputs": [],
   "source": [
    "# list storing boolean values\n",
    "dev = np.random.rand(len(df)) <=0.7"
   ]
  },
  {
   "cell_type": "code",
   "execution_count": 24,
   "id": "833aa35b",
   "metadata": {},
   "outputs": [],
   "source": [
    "#split df into 2 samples\n",
    "big = df[dev]\n",
    "small = df[~dev]"
   ]
  },
  {
   "cell_type": "code",
   "execution_count": 25,
   "id": "151e2511",
   "metadata": {},
   "outputs": [],
   "source": [
    "#creating smaller df to speed up processing\n",
    "df_2 = small [['order_dow', 'prices']]"
   ]
  },
  {
   "cell_type": "code",
   "execution_count": 26,
   "id": "261f4e60",
   "metadata": {},
   "outputs": [
    {
     "data": {
      "image/png": "[encoded data removed]",
      "text/plain": [
       "<Figure size 432x288 with 1 Axes>"
      ]
     },
     "metadata": {
      "needs_background": "light"
     },
     "output_type": "display_data"
    }
   ],
   "source": [
    "line = sns.lineplot(data = df_2, x = 'order_dow', y = 'prices')"
   ]
  },
  {
   "cell_type": "markdown",
   "id": "aa1f22a3",
   "metadata": {},
   "source": [
    "## Histogram order hour of day"
   ]
  },
  {
   "cell_type": "code",
   "execution_count": 38,
   "id": "42e901fa",
   "metadata": {},
   "outputs": [
    {
     "data": {
      "image/png": "[encoded data removed]",
      "text/plain": [
       "<Figure size 432x288 with 1 Axes>"
      ]
     },
     "metadata": {
      "needs_background": "light"
     },
     "output_type": "display_data"
    }
   ],
   "source": [
    "hist_2 = df['order_hour_of_day'].plot.hist(bins = 24)"
   ]
  },
  {
   "cell_type": "markdown",
   "id": "eb05c0f2",
   "metadata": {},
   "source": [
    "## Bar chart loyalty flag"
   ]
  },
  {
   "cell_type": "code",
   "execution_count": 29,
   "id": "23bd1ff2",
   "metadata": {},
   "outputs": [
    {
     "data": {
      "image/png": "[encoded data removed]",
      "text/plain": [
       "<Figure size 432x288 with 1 Axes>"
      ]
     },
     "metadata": {
      "needs_background": "light"
     },
     "output_type": "display_data"
    }
   ],
   "source": [
    "bar_2 = df['loyalty_flag'].value_counts().plot.bar()"
   ]
  },
  {
   "cell_type": "markdown",
   "id": "482e3937",
   "metadata": {},
   "source": [
    "## Line chart: prices/hour of day"
   ]
  },
  {
   "cell_type": "code",
   "execution_count": 30,
   "id": "26f8ed9a",
   "metadata": {},
   "outputs": [
    {
     "data": {
      "image/png": "[encoded data removed]",
      "text/plain": [
       "<Figure size 432x288 with 1 Axes>"
      ]
     },
     "metadata": {
      "needs_background": "light"
     },
     "output_type": "display_data"
    }
   ],
   "source": [
    "line_2 = sns.lineplot(data = df, x = 'order_hour_of_day', y = 'prices')"
   ]
  },
  {
   "cell_type": "markdown",
   "id": "a588fdfe",
   "metadata": {},
   "source": [
    "## Line chart: Age/N_Dependants"
   ]
  },
  {
   "cell_type": "code",
   "execution_count": 31,
   "id": "0074899d",
   "metadata": {},
   "outputs": [],
   "source": [
    "#creating smaller df to speed up processing\n",
    "df_3 = df[['age', 'n_dependants']]"
   ]
  },
  {
   "cell_type": "code",
   "execution_count": 32,
   "id": "fda21074",
   "metadata": {},
   "outputs": [
    {
     "data": {
      "image/png": "[encoded data removed]",
      "text/plain": [
       "<Figure size 432x288 with 1 Axes>"
      ]
     },
     "metadata": {
      "needs_background": "light"
     },
     "output_type": "display_data"
    }
   ],
   "source": [
    "line_3 = sns.lineplot(data = df_3, x = 'n_dependants', y = 'age')"
   ]
  },
  {
   "cell_type": "code",
   "execution_count": 33,
   "id": "7b753e4e",
   "metadata": {},
   "outputs": [
    {
     "data": {
      "text/plain": [
       "55.4604"
      ]
     },
     "execution_count": 33,
     "metadata": {},
     "output_type": "execute_result"
    }
   ],
   "source": [
    "df['age'].mean()"
   ]
  },
  {
   "cell_type": "markdown",
   "id": "84dd7109",
   "metadata": {},
   "source": [
    "## Scatterplot: Age/Prices"
   ]
  },
  {
   "cell_type": "code",
   "execution_count": 34,
   "id": "6e8fcbed",
   "metadata": {},
   "outputs": [
    {
     "data": {
      "image/png": "[encoded data removed]",
      "text/plain": [
       "<Figure size 432x288 with 1 Axes>"
      ]
     },
     "metadata": {
      "needs_background": "light"
     },
     "output_type": "display_data"
    }
   ],
   "source": [
    "scatter = sns.scatterplot(data = df, x = 'age', y = 'income')"
   ]
  },
  {
   "cell_type": "markdown",
   "id": "49e7d970",
   "metadata": {},
   "source": [
    "## Exporting visulatizations"
   ]
  },
  {
   "cell_type": "code",
   "execution_count": 35,
   "id": "47321183",
   "metadata": {},
   "outputs": [],
   "source": [
    "#orders_day_of_week bar\n",
    "bar.figure.savefig(os.path.join(path, '04_Analysis', 'Visualizations', 'orders_day_of_week_bar.png'))"
   ]
  },
  {
   "cell_type": "code",
   "execution_count": 39,
   "id": "1d8da00a",
   "metadata": {},
   "outputs": [],
   "source": [
    "#prices histogram\n",
    "hist_2.figure.savefig(os.path.join(path, '04_Analysis', 'Visualizations', 'prices_hist.png'))"
   ]
  },
  {
   "cell_type": "code",
   "execution_count": 40,
   "id": "53f58bbd",
   "metadata": {},
   "outputs": [],
   "source": [
    "#day_of_week_prices linechart\n",
    "line.figure.savefig(os.path.join(path, '04_Analysis', 'Visualizations', 'day_of_week_price_line.png'))"
   ]
  },
  {
   "cell_type": "code",
   "execution_count": 41,
   "id": "5da658c6",
   "metadata": {},
   "outputs": [],
   "source": [
    "#order_hour histogram\n",
    "hist_3.figure.savefig(os.path.join(path, '04_Analysis', 'Visualizations', 'order_hour_hist.png'))"
   ]
  },
  {
   "cell_type": "code",
   "execution_count": 42,
   "id": "a5941b27",
   "metadata": {},
   "outputs": [],
   "source": [
    "#loyalty_flag bar\n",
    "bar_2.figure.savefig(os.path.join(path, '04_Analysis', 'Visualizations', 'loyalty_flag_bar.png'))"
   ]
  },
  {
   "cell_type": "code",
   "execution_count": 43,
   "id": "d20f68e6",
   "metadata": {},
   "outputs": [],
   "source": [
    "#order_hour_prices linechart\n",
    "line_2.figure.savefig(os.path.join(path, '04_Analysis', 'Visualizations', 'order_hour_prices_line.png'))"
   ]
  },
  {
   "cell_type": "code",
   "execution_count": 44,
   "id": "d3f1a56c",
   "metadata": {},
   "outputs": [],
   "source": [
    "#dependants_age linechart\n",
    "line_3.figure.savefig(os.path.join(path, '04_Analysis', 'Visualizations', 'dependants_age_line.png'))"
   ]
  },
  {
   "cell_type": "code",
   "execution_count": 45,
   "id": "eb737e0f",
   "metadata": {},
   "outputs": [],
   "source": [
    "#age_income scatter\n",
    "scatter.figure.savefig(os.path.join(path, '04_Analysis', 'Visualizations', 'age_income.png'))"
   ]
  },
  {
   "cell_type": "code",
   "execution_count": null,
   "id": "1b8ff22e",
   "metadata": {},
   "outputs": [],
   "source": []
  }
 ],
 "metadata": {
  "kernelspec": {
   "display_name": "Python 3 (ipykernel)",
   "language": "python",
   "name": "python3"
  },
  "language_info": {
   "codemirror_mode": {
    "name": "ipython",
    "version": 3
   },
   "file_extension": ".py",
   "mimetype": "text/x-python",
   "name": "python",
   "nbconvert_exporter": "python",
   "pygments_lexer": "ipython3",
   "version": "3.9.7"
  }
 },
 "nbformat": 4,
 "nbformat_minor": 5
}
