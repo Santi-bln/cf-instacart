{
 "cells": [
  {
   "cell_type": "markdown",
   "id": "4d71730a",
   "metadata": {},
   "source": [
    "# 01. Importing libraries"
   ]
  },
  {
   "cell_type": "code",
   "execution_count": 4,
   "id": "7aef4671",
   "metadata": {},
   "outputs": [],
   "source": [
    "# import libraries\n",
    "import pandas as pd\n",
    "import numpy as np\n",
    "import os"
   ]
  },
  {
   "cell_type": "markdown",
   "id": "64427815",
   "metadata": {},
   "source": [
    "# 02. Data types"
   ]
  },
  {
   "cell_type": "code",
   "execution_count": 5,
   "id": "2c478ff0",
   "metadata": {},
   "outputs": [],
   "source": [
    "x = 2"
   ]
  },
  {
   "cell_type": "code",
   "execution_count": 6,
   "id": "81c5d987",
   "metadata": {},
   "outputs": [
    {
     "name": "stdout",
     "output_type": "stream",
     "text": [
      "2\n"
     ]
    }
   ],
   "source": [
    "print(x)"
   ]
  },
  {
   "cell_type": "code",
   "execution_count": 7,
   "id": "44e738a0",
   "metadata": {},
   "outputs": [
    {
     "data": {
      "text/plain": [
       "int"
      ]
     },
     "execution_count": 7,
     "metadata": {},
     "output_type": "execute_result"
    }
   ],
   "source": [
    "type(x)"
   ]
  },
  {
   "cell_type": "code",
   "execution_count": 8,
   "id": "8fdd7b4f",
   "metadata": {},
   "outputs": [],
   "source": [
    "y = 5.678"
   ]
  },
  {
   "cell_type": "code",
   "execution_count": 9,
   "id": "12a3c82f",
   "metadata": {},
   "outputs": [
    {
     "data": {
      "text/plain": [
       "float"
      ]
     },
     "execution_count": 9,
     "metadata": {},
     "output_type": "execute_result"
    }
   ],
   "source": [
    "type(y)"
   ]
  },
  {
   "cell_type": "code",
   "execution_count": 11,
   "id": "745ad631",
   "metadata": {},
   "outputs": [],
   "source": [
    "z = 'Brazil'"
   ]
  },
  {
   "cell_type": "code",
   "execution_count": 12,
   "id": "152801d3",
   "metadata": {},
   "outputs": [
    {
     "data": {
      "text/plain": [
       "str"
      ]
     },
     "execution_count": 12,
     "metadata": {},
     "output_type": "execute_result"
    }
   ],
   "source": [
    "type(z)"
   ]
  },
  {
   "cell_type": "code",
   "execution_count": 14,
   "id": "d4a23edc",
   "metadata": {},
   "outputs": [
    {
     "data": {
      "text/plain": [
       "bool"
      ]
     },
     "execution_count": 14,
     "metadata": {},
     "output_type": "execute_result"
    }
   ],
   "source": [
    "type(True)"
   ]
  },
  {
   "cell_type": "code",
   "execution_count": 15,
   "id": "754fbddb",
   "metadata": {},
   "outputs": [
    {
     "data": {
      "text/plain": [
       "bool"
      ]
     },
     "execution_count": 15,
     "metadata": {},
     "output_type": "execute_result"
    }
   ],
   "source": [
    "type(False)"
   ]
  },
  {
   "cell_type": "code",
   "execution_count": 16,
   "id": "bc33f50a",
   "metadata": {},
   "outputs": [],
   "source": [
    "w = 50"
   ]
  },
  {
   "cell_type": "code",
   "execution_count": 19,
   "id": "3cd81257",
   "metadata": {},
   "outputs": [],
   "source": [
    "v = 25"
   ]
  },
  {
   "cell_type": "code",
   "execution_count": 17,
   "id": "ddf31b23",
   "metadata": {},
   "outputs": [
    {
     "data": {
      "text/plain": [
       "100"
      ]
     },
     "execution_count": 17,
     "metadata": {},
     "output_type": "execute_result"
    }
   ],
   "source": [
    "w + w"
   ]
  },
  {
   "cell_type": "code",
   "execution_count": 18,
   "id": "f5cfc20a",
   "metadata": {},
   "outputs": [
    {
     "data": {
      "text/plain": [
       "100"
      ]
     },
     "execution_count": 18,
     "metadata": {},
     "output_type": "execute_result"
    }
   ],
   "source": [
    "x * 50"
   ]
  },
  {
   "cell_type": "code",
   "execution_count": 20,
   "id": "e3104b27",
   "metadata": {},
   "outputs": [
    {
     "data": {
      "text/plain": [
       "100"
      ]
     },
     "execution_count": 20,
     "metadata": {},
     "output_type": "execute_result"
    }
   ],
   "source": [
    "v + v + v + v"
   ]
  },
  {
   "cell_type": "code",
   "execution_count": 21,
   "id": "92b626dd",
   "metadata": {},
   "outputs": [],
   "source": [
    "u = 4.21"
   ]
  },
  {
   "cell_type": "code",
   "execution_count": 22,
   "id": "5e76565d",
   "metadata": {},
   "outputs": [
    {
     "data": {
      "text/plain": [
       "0.7414582599506868"
      ]
     },
     "execution_count": 22,
     "metadata": {},
     "output_type": "execute_result"
    }
   ],
   "source": [
    "u / y"
   ]
  },
  {
   "cell_type": "code",
   "execution_count": 23,
   "id": "d2df92f4",
   "metadata": {},
   "outputs": [],
   "source": [
    "a = 'lo'"
   ]
  },
  {
   "cell_type": "code",
   "execution_count": 32,
   "id": "64731742",
   "metadata": {},
   "outputs": [],
   "source": [
    "b = 've '"
   ]
  },
  {
   "cell_type": "code",
   "execution_count": 25,
   "id": "384f52c6",
   "metadata": {},
   "outputs": [
    {
     "data": {
      "text/plain": [
       "'love'"
      ]
     },
     "execution_count": 25,
     "metadata": {},
     "output_type": "execute_result"
    }
   ],
   "source": [
    "a+b"
   ]
  },
  {
   "cell_type": "code",
   "execution_count": 29,
   "id": "320ba765",
   "metadata": {},
   "outputs": [],
   "source": [
    "c = 'I '"
   ]
  },
  {
   "cell_type": "code",
   "execution_count": 30,
   "id": "a1aedf74",
   "metadata": {},
   "outputs": [],
   "source": [
    "d = 'you!'"
   ]
  },
  {
   "cell_type": "code",
   "execution_count": 33,
   "id": "2f0c43f5",
   "metadata": {},
   "outputs": [
    {
     "data": {
      "text/plain": [
       "'I love you!'"
      ]
     },
     "execution_count": 33,
     "metadata": {},
     "output_type": "execute_result"
    }
   ],
   "source": [
    "c+a+b+d"
   ]
  },
  {
   "cell_type": "code",
   "execution_count": 39,
   "id": "f969bbb0",
   "metadata": {},
   "outputs": [],
   "source": [
    "e = 'Good morning, '"
   ]
  },
  {
   "cell_type": "code",
   "execution_count": 40,
   "id": "cf46bae3",
   "metadata": {},
   "outputs": [],
   "source": [
    "f = 'everyone!'"
   ]
  },
  {
   "cell_type": "code",
   "execution_count": 41,
   "id": "3d385ee0",
   "metadata": {},
   "outputs": [
    {
     "data": {
      "text/plain": [
       "'Good morning, everyone!'"
      ]
     },
     "execution_count": 41,
     "metadata": {},
     "output_type": "execute_result"
    }
   ],
   "source": [
    "e+f"
   ]
  },
  {
   "cell_type": "code",
   "execution_count": null,
   "id": "89596c21",
   "metadata": {},
   "outputs": [],
   "source": []
  }
 ],
 "metadata": {
  "kernelspec": {
   "display_name": "Python 3 (ipykernel)",
   "language": "python",
   "name": "python3"
  },
  "language_info": {
   "codemirror_mode": {
    "name": "ipython",
    "version": 3
   },
   "file_extension": ".py",
   "mimetype": "text/x-python",
   "name": "python",
   "nbconvert_exporter": "python",
   "pygments_lexer": "ipython3",
   "version": "3.9.7"
  }
 },
 "nbformat": 4,
 "nbformat_minor": 5
}
